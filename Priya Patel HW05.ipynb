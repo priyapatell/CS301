{
 "cells": [
  {
   "cell_type": "code",
   "execution_count": 1,
   "metadata": {},
   "outputs": [],
   "source": [
    "#Author: Priya Patel\n",
    "#Date: 20200303\n",
    "#CS301-006, Professor Watson\n",
    "#HW05 Solution\n",
    "#Learn how manipulate data into visualizations like bar charts, histograms and scatter plots and identify key items of these visualizations through descriptions and critiques.\n",
    "#https://github.com/priyapatell/CS301.git\n",
    "#master"
   ]
  },
  {
   "cell_type": "code",
   "execution_count": 2,
   "metadata": {},
   "outputs": [],
   "source": [
    "import pandas as pd\n",
    "import numpy as py\n",
    "\n",
    "##Visualization Libraries\n",
    "import matplotlib as mpl\n",
    "import matplotlib.pyplot as plt\n",
    "%matplotlib inline"
   ]
  },
  {
   "cell_type": "markdown",
   "metadata": {},
   "source": [
    "### **Data**"
   ]
  },
  {
   "cell_type": "code",
   "execution_count": 3,
   "metadata": {
    "scrolled": false
   },
   "outputs": [
    {
     "data": {
      "text/html": [
       "<div>\n",
       "<style scoped>\n",
       "    .dataframe tbody tr th:only-of-type {\n",
       "        vertical-align: middle;\n",
       "    }\n",
       "\n",
       "    .dataframe tbody tr th {\n",
       "        vertical-align: top;\n",
       "    }\n",
       "\n",
       "    .dataframe thead th {\n",
       "        text-align: right;\n",
       "    }\n",
       "</style>\n",
       "<table border=\"1\" class=\"dataframe\">\n",
       "  <thead>\n",
       "    <tr style=\"text-align: right;\">\n",
       "      <th></th>\n",
       "      <th>Unnamed: 0</th>\n",
       "      <th>Name</th>\n",
       "      <th>Midterm</th>\n",
       "      <th>Final</th>\n",
       "      <th>Attendance</th>\n",
       "      <th>HW</th>\n",
       "      <th>Final Average</th>\n",
       "      <th>Final Letter</th>\n",
       "      <th>Numeric Bin</th>\n",
       "      <th>Majors</th>\n",
       "    </tr>\n",
       "  </thead>\n",
       "  <tbody>\n",
       "    <tr>\n",
       "      <td>0</td>\n",
       "      <td>0</td>\n",
       "      <td>Ariel</td>\n",
       "      <td>89</td>\n",
       "      <td>92</td>\n",
       "      <td>9</td>\n",
       "      <td>9</td>\n",
       "      <td>86.0</td>\n",
       "      <td>B+</td>\n",
       "      <td>80.0</td>\n",
       "      <td>BNFO</td>\n",
       "    </tr>\n",
       "    <tr>\n",
       "      <td>1</td>\n",
       "      <td>1</td>\n",
       "      <td>Brody</td>\n",
       "      <td>92</td>\n",
       "      <td>93</td>\n",
       "      <td>10</td>\n",
       "      <td>9</td>\n",
       "      <td>89.0</td>\n",
       "      <td>A</td>\n",
       "      <td>80.0</td>\n",
       "      <td>BNFO</td>\n",
       "    </tr>\n",
       "    <tr>\n",
       "      <td>2</td>\n",
       "      <td>2</td>\n",
       "      <td>Debra</td>\n",
       "      <td>76</td>\n",
       "      <td>88</td>\n",
       "      <td>8</td>\n",
       "      <td>6</td>\n",
       "      <td>74.0</td>\n",
       "      <td>C+</td>\n",
       "      <td>70.0</td>\n",
       "      <td>MATH</td>\n",
       "    </tr>\n",
       "    <tr>\n",
       "      <td>3</td>\n",
       "      <td>3</td>\n",
       "      <td>Rex</td>\n",
       "      <td>90</td>\n",
       "      <td>83</td>\n",
       "      <td>10</td>\n",
       "      <td>10</td>\n",
       "      <td>88.0</td>\n",
       "      <td>B+</td>\n",
       "      <td>80.0</td>\n",
       "      <td>MATH</td>\n",
       "    </tr>\n",
       "    <tr>\n",
       "      <td>4</td>\n",
       "      <td>4</td>\n",
       "      <td>Jerry</td>\n",
       "      <td>67</td>\n",
       "      <td>85</td>\n",
       "      <td>7</td>\n",
       "      <td>5</td>\n",
       "      <td>66.0</td>\n",
       "      <td>D</td>\n",
       "      <td>60.0</td>\n",
       "      <td>BNFO</td>\n",
       "    </tr>\n",
       "    <tr>\n",
       "      <td>...</td>\n",
       "      <td>...</td>\n",
       "      <td>...</td>\n",
       "      <td>...</td>\n",
       "      <td>...</td>\n",
       "      <td>...</td>\n",
       "      <td>...</td>\n",
       "      <td>...</td>\n",
       "      <td>...</td>\n",
       "      <td>...</td>\n",
       "      <td>...</td>\n",
       "    </tr>\n",
       "    <tr>\n",
       "      <td>145</td>\n",
       "      <td>145</td>\n",
       "      <td>Nicole</td>\n",
       "      <td>97</td>\n",
       "      <td>96</td>\n",
       "      <td>9</td>\n",
       "      <td>8</td>\n",
       "      <td>86.7</td>\n",
       "      <td>B+</td>\n",
       "      <td>80.0</td>\n",
       "      <td>MATH</td>\n",
       "    </tr>\n",
       "    <tr>\n",
       "      <td>146</td>\n",
       "      <td>146</td>\n",
       "      <td>Duncan</td>\n",
       "      <td>99</td>\n",
       "      <td>98</td>\n",
       "      <td>10</td>\n",
       "      <td>8</td>\n",
       "      <td>90.2</td>\n",
       "      <td>A</td>\n",
       "      <td>90.0</td>\n",
       "      <td>BNFO</td>\n",
       "    </tr>\n",
       "    <tr>\n",
       "      <td>147</td>\n",
       "      <td>147</td>\n",
       "      <td>Hope</td>\n",
       "      <td>96</td>\n",
       "      <td>92</td>\n",
       "      <td>10</td>\n",
       "      <td>9</td>\n",
       "      <td>89.8</td>\n",
       "      <td>A</td>\n",
       "      <td>80.0</td>\n",
       "      <td>IT</td>\n",
       "    </tr>\n",
       "    <tr>\n",
       "      <td>148</td>\n",
       "      <td>148</td>\n",
       "      <td>Kiara</td>\n",
       "      <td>93</td>\n",
       "      <td>91</td>\n",
       "      <td>10</td>\n",
       "      <td>10</td>\n",
       "      <td>90.9</td>\n",
       "      <td>A</td>\n",
       "      <td>90.0</td>\n",
       "      <td>CS</td>\n",
       "    </tr>\n",
       "    <tr>\n",
       "      <td>149</td>\n",
       "      <td>149</td>\n",
       "      <td>Zunair</td>\n",
       "      <td>95</td>\n",
       "      <td>82</td>\n",
       "      <td>9</td>\n",
       "      <td>10</td>\n",
       "      <td>86.1</td>\n",
       "      <td>B+</td>\n",
       "      <td>80.0</td>\n",
       "      <td>MATH</td>\n",
       "    </tr>\n",
       "  </tbody>\n",
       "</table>\n",
       "<p>150 rows × 10 columns</p>\n",
       "</div>"
      ],
      "text/plain": [
       "     Unnamed: 0    Name  Midterm  Final  Attendance  HW  Final Average  \\\n",
       "0             0   Ariel       89     92           9   9           86.0   \n",
       "1             1   Brody       92     93          10   9           89.0   \n",
       "2             2   Debra       76     88           8   6           74.0   \n",
       "3             3     Rex       90     83          10  10           88.0   \n",
       "4             4   Jerry       67     85           7   5           66.0   \n",
       "..          ...     ...      ...    ...         ...  ..            ...   \n",
       "145         145  Nicole       97     96           9   8           86.7   \n",
       "146         146  Duncan       99     98          10   8           90.2   \n",
       "147         147    Hope       96     92          10   9           89.8   \n",
       "148         148   Kiara       93     91          10  10           90.9   \n",
       "149         149  Zunair       95     82           9  10           86.1   \n",
       "\n",
       "    Final Letter  Numeric Bin Majors  \n",
       "0             B+         80.0   BNFO  \n",
       "1              A         80.0   BNFO  \n",
       "2             C+         70.0   MATH  \n",
       "3             B+         80.0   MATH  \n",
       "4              D         60.0   BNFO  \n",
       "..           ...          ...    ...  \n",
       "145           B+         80.0   MATH  \n",
       "146            A         90.0   BNFO  \n",
       "147            A         80.0     IT  \n",
       "148            A         90.0     CS  \n",
       "149           B+         80.0   MATH  \n",
       "\n",
       "[150 rows x 10 columns]"
      ]
     },
     "execution_count": 3,
     "metadata": {},
     "output_type": "execute_result"
    }
   ],
   "source": [
    "data_dir= '/Users/pdpat/Documents/CS301 Folder/student_class.csv'\n",
    "p1_df= pd.read_csv(data_dir)\n",
    "p1_df"
   ]
  },
  {
   "cell_type": "markdown",
   "metadata": {},
   "source": [
    "### **Problem 1**"
   ]
  },
  {
   "cell_type": "code",
   "execution_count": 4,
   "metadata": {},
   "outputs": [
    {
     "data": {
      "image/png": "[encoded data removed]",
      "text/plain": [
       "<Figure size 1008x504 with 1 Axes>"
      ]
     },
     "metadata": {
      "needs_background": "light"
     },
     "output_type": "display_data"
    }
   ],
   "source": [
    "register= [0,1,2,3,4]\n",
    "\n",
    "majors= ['BNFO','CS','IS','IT','MATH']\n",
    "midterm= []\n",
    "final= []\n",
    "finalavg= []\n",
    "for major in majors:\n",
    "    temp= p1_df.loc[p1_df[\"Majors\"]== major]\n",
    "    midterm.append(temp['Midterm'].median())\n",
    "    final.append(temp['Final'].median())\n",
    "    finalavg.append(temp['Final Average'].median())\n",
    "\n",
    "plt.figure(figsize= (14,7))\n",
    "x= py.arange(len(majors))\n",
    "\n",
    "plt.bar(x - 0.3, midterm, width= 0.3, label= 'Midterm', color=(\"r\"))\n",
    "plt.bar(x, final, width= 0.3, label= 'Final', color=(\"g\"))\n",
    "plt.bar(x + 0.3, finalavg, width= 0.3, label= 'Final Average', color=(\"b\"))\n",
    "\n",
    "plt.title('Medians of Midterm, Final, and Final Average Scores')\n",
    "plt.xlabel('Major')\n",
    "plt.xticks(register, majors)\n",
    "plt.ylabel('Median Score')\n",
    "plt.legend()\n",
    "plt.show()\n"
   ]
  },
  {
   "cell_type": "markdown",
   "metadata": {},
   "source": [
    "This visualization is a bar graph that shows the median Midterm, Final and Final Average Scores of 5 different majors. The data items in the graph are the test scores. The attributes that differentiate the test scores are the midterm, final and final average grades. We show these data through bars, which are the mark. The channels in which we show this data are through differentiating by major, median scores, and colors (red, green and blue). The overall performance of each major is very similiar to each other. This is because every bars average between 60 and 80. However, it seems that BNFO and Math average higher than the rest, with IT close behind."
   ]
  },
  {
   "cell_type": "markdown",
   "metadata": {},
   "source": [
    "### **Problem 2**"
   ]
  },
  {
   "cell_type": "code",
   "execution_count": 5,
   "metadata": {
    "scrolled": false
   },
   "outputs": [
    {
     "data": {
      "image/png": "[encoded data removed]",
      "text/plain": [
       "<Figure size 1008x504 with 1 Axes>"
      ]
     },
     "metadata": {
      "needs_background": "light"
     },
     "output_type": "display_data"
    }
   ],
   "source": [
    "x= p1_df['Final Average']\n",
    "\n",
    "plt.figure(figsize= (14,7))\n",
    "plt.hist(x, 6, range= [40,100])\n",
    "\n",
    "plt.title('Number of Students in Each Grade Bin')\n",
    "plt.xlabel('Grade')\n",
    "plt.ylabel('Frequency')\n",
    "plt.show()\n"
   ]
  },
  {
   "cell_type": "markdown",
   "metadata": {},
   "source": [
    "This visualization is a histogram that shows the frequency of students in each grade bin depending on their final average. The data items in the graph are the test scores. The attributes that differentiate the test scores are the final average grades which we sort into grade bins. We show these data through bars, which are the mark. The channels in which we show this data are through differentiating by grade bins and the frequency of students. For critiques, I would add a legend to reaffirm what the bars represent. I would also add borders to each bar to make make it easier to differentiate. The histogram is left skewed as most of the data appears to be on the right side of the graph."
   ]
  },
  {
   "cell_type": "markdown",
   "metadata": {},
   "source": [
    "### **Problem 3**"
   ]
  },
  {
   "cell_type": "code",
   "execution_count": 6,
   "metadata": {
    "scrolled": false
   },
   "outputs": [
    {
     "data": {
      "image/png": "[encoded data removed]",
      "text/plain": [
       "<Figure size 1008x504 with 1 Axes>"
      ]
     },
     "metadata": {
      "needs_background": "light"
     },
     "output_type": "display_data"
    }
   ],
   "source": [
    "x= p1_df['Midterm']\n",
    "x1= p1_df['Final']\n",
    "y= p1_df['Final Average']\n",
    "\n",
    "plt.figure(figsize= (14,7))\n",
    "plt.plot(x,y,'o', color='r',label='Midterm')\n",
    "plt.plot(x1,y,'o', color='b',label='Final')\n",
    "\n",
    "plt.title('Exams vs Final Average')\n",
    "plt.xlabel('Exam Score')\n",
    "plt.ylabel('Final Average')\n",
    "plt.legend()\n",
    "plt.show()\n"
   ]
  },
  {
   "cell_type": "markdown",
   "metadata": {},
   "source": [
    "This visualization is a scatter plot that shows the Midterm v Final Scores for each student. The data items in the graph are the test scores for each student. The attributes that differentiate the test scores are the midterm, final and final average grades. We show these data through points, which are the mark. The channels in which we show this data are exam score, final average, and colors (red and blue). Overall, you cannot tell if the exam scores are indicative of the corresponding final average because it is hard to see any correlations or trends. To fix this, we may want to consider changing the type of visualization or adding in trend lines."
   ]
  },
  {
   "cell_type": "code",
   "execution_count": null,
   "metadata": {},
   "outputs": [],
   "source": []
  }
 ],
 "metadata": {
  "kernelspec": {
   "display_name": "Python 3",
   "language": "python",
   "name": "python3"
  },
  "language_info": {
   "codemirror_mode": {
    "name": "ipython",
    "version": 3
   },
   "file_extension": ".py",
   "mimetype": "text/x-python",
   "name": "python",
   "nbconvert_exporter": "python",
   "pygments_lexer": "ipython3",
   "version": "3.7.4"
  }
 },
 "nbformat": 4,
 "nbformat_minor": 2
}
